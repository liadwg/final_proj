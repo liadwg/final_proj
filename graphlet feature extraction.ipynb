{
 "cells": [
  {
   "cell_type": "markdown",
   "metadata": {},
   "source": [
    "Run script to load Functions"
   ]
  },
  {
   "cell_type": "code",
   "execution_count": 5,
   "metadata": {
    "collapsed": true
   },
   "outputs": [],
   "source": [
    "%run base.py "
   ]
  },
  {
   "cell_type": "markdown",
   "metadata": {},
   "source": [
    "Get graphlets and features"
   ]
  },
  {
   "cell_type": "code",
   "execution_count": 6,
   "metadata": {
    "collapsed": false
   },
   "outputs": [],
   "source": [
    "capture_summaries = pyshark.FileCapture(\"Test28_Id1_Stream1_100.pcap\", only_summaries=True, display_filter=\"tcp.flags.syn == 1 and tcp.flags.ack == 1\")\n",
    "graphlet_list = get_host_graphlets(capture_summaries)\n",
    "feature_dict = {}\n",
    "for graphlet in graphlet_list:\n",
    "    feature_dict[graphlet.name] = get_graphlet_features(graphlet)"
   ]
  },
  {
   "cell_type": "markdown",
   "metadata": {},
   "source": [
    "Sample first graphlet"
   ]
  },
  {
   "cell_type": "code",
   "execution_count": 7,
   "metadata": {
    "collapsed": false
   },
   "outputs": [
    {
     "data": {
      "text/plain": [
       "('104.244.43.199',\n",
       " {'T_bin0': 0,\n",
       "  'T_bin1': 0,\n",
       "  'T_bin10': 0,\n",
       "  'T_bin11': 0,\n",
       "  'T_bin2': 0,\n",
       "  'T_bin3': 0,\n",
       "  'T_bin4': 0,\n",
       "  'T_bin5': 26,\n",
       "  'T_bin6': 116,\n",
       "  'T_bin7': 0,\n",
       "  'T_bin8': 0,\n",
       "  'T_bin9': 2,\n",
       "  'U_bin0': 0,\n",
       "  'U_bin1': 0,\n",
       "  'U_bin10': 0,\n",
       "  'U_bin11': 0,\n",
       "  'U_bin2': 0,\n",
       "  'U_bin3': 0,\n",
       "  'U_bin4': 0,\n",
       "  'U_bin5': 0,\n",
       "  'U_bin6': 0,\n",
       "  'U_bin7': 0,\n",
       "  'U_bin8': 0,\n",
       "  'U_bin9': 0,\n",
       "  'alpha1_2': 1,\n",
       "  'alpha2_1': 1,\n",
       "  'alpha2_3': 1,\n",
       "  'alpha3_2': 1,\n",
       "  'alpha3_4': 1,\n",
       "  'alpha4_3': 1,\n",
       "  'alpha4_5': 14,\n",
       "  'alpha5_4': 1,\n",
       "  'beta1_2': 0,\n",
       "  'beta2_1': 1,\n",
       "  'beta2_3': 1,\n",
       "  'beta3_2': 1,\n",
       "  'beta3_4': 1,\n",
       "  'beta4_3': 14,\n",
       "  'beta4_5': 1,\n",
       "  'beta5_4': 0,\n",
       "  'myu1_2': 1.0,\n",
       "  'myu2_1': 1.0,\n",
       "  'myu2_3': 1.0,\n",
       "  'myu3_2': 1.0,\n",
       "  'myu3_4': 1.0,\n",
       "  'myu4_3': 1.0,\n",
       "  'myu4_5': 14.0,\n",
       "  'myu5_4': 1.0,\n",
       "  'n1': 1,\n",
       "  'n2': 1,\n",
       "  'n3': 1,\n",
       "  'n4': 1,\n",
       "  'n5': 14,\n",
       "  'o1_2': 1,\n",
       "  'o2_1': 1,\n",
       "  'o2_3': 1,\n",
       "  'o3_2': 1,\n",
       "  'o3_4': 1,\n",
       "  'o4_3': 1,\n",
       "  'o4_5': 0,\n",
       "  'o5_4': 14})"
      ]
     },
     "execution_count": 7,
     "metadata": {},
     "output_type": "execute_result"
    }
   ],
   "source": [
    "feature_dict.items()[0]"
   ]
  }
 ],
 "metadata": {
  "kernelspec": {
   "display_name": "Python 2",
   "language": "python",
   "name": "python2"
  },
  "language_info": {
   "codemirror_mode": {
    "name": "ipython",
    "version": 2
   },
   "file_extension": ".py",
   "mimetype": "text/x-python",
   "name": "python",
   "nbconvert_exporter": "python",
   "pygments_lexer": "ipython2",
   "version": "2.7.12"
  }
 },
 "nbformat": 4,
 "nbformat_minor": 1
}
